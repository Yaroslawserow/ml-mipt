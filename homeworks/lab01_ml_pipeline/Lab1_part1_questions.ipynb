{
  "cells": [
    {
      "cell_type": "markdown",
      "metadata": {
        "id": "c5n1piiUH1nI"
      },
      "source": [
        "*Credits: materials from this notebook belong to YSDA [Practical DL](https://github.com/yandexdataschool/Practical_DL) course. Special thanks for making them available online.*"
      ]
    },
    {
      "cell_type": "markdown",
      "metadata": {
        "id": "Ju_5F6otH1nJ"
      },
      "source": [
        "# Lab assignment №1, part 1\n",
        "\n",
        "This lab assignment consists of several parts. You are supposed to make some transformations, train some models, estimate the quality of the models and explain your results.\n",
        "\n",
        "Several comments:\n",
        "* Don't hesitate to ask questions, it's a good practice.\n",
        "* No private/public sharing, please. The copied assignments will be graded with 0 points.\n",
        "* Blocks of this lab will be graded separately."
      ]
    },
    {
      "cell_type": "markdown",
      "metadata": {
        "id": "y7-BfbAgH1nJ"
      },
      "source": [
        "## 1. Matrix differentiation"
      ]
    },
    {
      "cell_type": "markdown",
      "metadata": {
        "id": "ATQOUhIJH1nJ"
      },
      "source": [
        "Since it easy to google every task please please please try to undestand what's going on. The \"just answer\" thing will be not counted, make sure to present derivation of your solution. It is absolutely OK if you found an answer on web then just exercise in $\\LaTeX$ copying it into here."
      ]
    },
    {
      "cell_type": "markdown",
      "metadata": {
        "id": "KmwXSWTHH1nJ"
      },
      "source": [
        "Useful links:\n",
        "[1](http://www.machinelearning.ru/wiki/images/2/2a/Matrix-Gauss.pdf)\n",
        "[2](http://www.atmos.washington.edu/~dennis/MatrixCalculus.pdf)"
      ]
    },
    {
      "cell_type": "markdown",
      "metadata": {
        "id": "w2ePYM_nH1nK"
      },
      "source": [
        "## ex. 1"
      ]
    },
    {
      "cell_type": "markdown",
      "metadata": {
        "id": "Op6SweD3H1nK"
      },
      "source": [
        "$$  \n",
        "y = x^Tx,  \\quad x \\in \\mathbb{R}^N\n",
        "$$"
      ]
    },
    {
      "cell_type": "markdown",
      "metadata": {
        "id": "9KqmcivpH1nK"
      },
      "source": [
        "$$\n",
        "\\frac{dy}{dx} =\n",
        "$$"
      ]
    },
    {
      "cell_type": "markdown",
      "source": [
        "$$\n",
        "y = x^T x = \\sum_{i=1}^{N} x_i^2\n",
        "$$\n",
        "\n",
        "$$\n",
        "\\frac{dy}{dx} = \\nabla_x (\\sum_{i=1}^{N} x_i^2) = 2x\n",
        "$$\n",
        "$$\n",
        "\\frac{dy}{dx} = \\nabla_x (x^T x) = 2x\n",
        "$$"
      ],
      "metadata": {
        "id": "9_7JGWxBIf4D"
      }
    },
    {
      "cell_type": "markdown",
      "metadata": {
        "id": "zH0PT7wIH1nK"
      },
      "source": [
        "## ex. 2"
      ]
    },
    {
      "cell_type": "markdown",
      "metadata": {
        "id": "q2dsQLiuH1nK"
      },
      "source": [
        "$$ y = tr(AB) \\quad A,B \\in \\mathbb{R}^{N \\times N} $$"
      ]
    },
    {
      "cell_type": "markdown",
      "metadata": {
        "id": "QQO0uk47H1nK"
      },
      "source": [
        "$$\n",
        "\\frac{dy}{dA} =\n",
        "$$"
      ]
    },
    {
      "cell_type": "markdown",
      "source": [
        "$$ \\frac{d tr(AB)}{dA} = (\\frac{d AB}{dA})^T $$\n",
        "$$ tr(AB) = tr(BA) $$\n",
        "$$ \\frac{dy}{dA} = B^T $$"
      ],
      "metadata": {
        "id": "qolhhCWkJRIl"
      }
    },
    {
      "cell_type": "markdown",
      "metadata": {
        "id": "M6Jaqgv9H1nL"
      },
      "source": [
        "## ex. 3"
      ]
    },
    {
      "cell_type": "markdown",
      "metadata": {
        "id": "I_06IjcwH1nL"
      },
      "source": [
        "$$  \n",
        "y = x^TAc , \\quad A\\in \\mathbb{R}^{N \\times N}, x\\in \\mathbb{R}^{N}, c\\in \\mathbb{R}^{N}\n",
        "$$"
      ]
    },
    {
      "cell_type": "markdown",
      "metadata": {
        "id": "zE9f6dEtH1nL"
      },
      "source": [
        "$$\n",
        "\\frac{dy}{dx} =\n",
        "$$"
      ]
    },
    {
      "cell_type": "markdown",
      "metadata": {
        "id": "9Aejzr0-H1nL"
      },
      "source": [
        "$$\n",
        "\\frac{dy}{dA} =\n",
        "$$"
      ]
    },
    {
      "cell_type": "markdown",
      "metadata": {
        "id": "MQmQtE0nH1nL"
      },
      "source": [
        "Hint for the latter (one of the ways): use *ex. 2* result and the fact\n",
        "$$\n",
        "tr(ABC) = tr (CAB)\n",
        "$$"
      ]
    },
    {
      "cell_type": "markdown",
      "source": [
        "$$\n",
        "y = x^T A c\n",
        "$$\n",
        "\n",
        "$$\n",
        "y = \\text{tr}(x^T A c) = \\text{tr}(A c x^T).\n",
        "$$\n",
        "\n",
        "$$\n",
        "\\frac{d}{dX} \\text{tr}(X^T M) = M,\n",
        "$$\n",
        "$$\n",
        "\\frac{dy}{dx} = A c.\n",
        "$$\n",
        "\n",
        "$$\n",
        "y = \\text{tr}(A c x^T).\n",
        "$$\n",
        "\n",
        "$$\n",
        "\\frac{dy}{dA} = c x^T.\n",
        "$$\n",
        "\n",
        "$$\n",
        "\\frac{dy}{dx} = A c,\n",
        "$$\n",
        "\n",
        "$$\n",
        "\\frac{dy}{dA} = c x^T.\n",
        "$$"
      ],
      "metadata": {
        "id": "Ne8c_rmiKeEj"
      }
    },
    {
      "cell_type": "markdown",
      "metadata": {
        "id": "ZGJ6v5sRH1nL"
      },
      "source": [
        "## ex. 4"
      ]
    },
    {
      "cell_type": "markdown",
      "metadata": {
        "id": "axXyWnLzH1nL"
      },
      "source": [
        "Classic matrix factorization example. Given matrix $X$ you need to find $A$, $S$ to approximate $X$. This can be done by simple gradient descent iteratively alternating $A$ and $S$ updates.\n",
        "$$\n",
        "J = || X - AS ||_F^2  , \\quad A\\in \\mathbb{R}^{N \\times R} , \\quad S\\in \\mathbb{R}^{R \\times M}\n",
        "$$\n",
        "$$\n",
        "\\frac{dJ}{dS} = ?\n",
        "$$\n",
        "\n",
        "You may use one of the following approaches:"
      ]
    },
    {
      "cell_type": "markdown",
      "metadata": {
        "id": "Vx9mOe8pH1nL"
      },
      "source": [
        "#### First approach\n",
        "Using ex.2 and the fact:\n",
        "$$\n",
        "|| X ||_F^2 = tr(XX^T)\n",
        "$$\n",
        "it is easy to derive gradients (you can find it in one of the refs)."
      ]
    },
    {
      "cell_type": "markdown",
      "metadata": {
        "id": "K6azAxCxH1nM"
      },
      "source": [
        "#### Second approach\n",
        "You can use *slightly different techniques* if they suits you. Take a look at this derivation:\n",
        "<img src=\"grad.png\">\n",
        "(excerpt from [Handbook of blind source separation, Jutten, page 517](https://books.google.ru/books?id=PTbj03bYH6kC&printsec=frontcover&dq=Handbook+of+Blind+Source+Separation&hl=en&sa=X&ved=0ahUKEwi-q_apiJDLAhULvXIKHVXJDWcQ6AEIHDAA#v=onepage&q=Handbook%20of%20Blind%20Source%20Separation&f=false), open for better picture)."
      ]
    },
    {
      "cell_type": "markdown",
      "metadata": {
        "id": "3T1fDDutH1nM"
      },
      "source": [
        "#### Third approach\n",
        "And finally we can use chain rule!\n",
        "let $ F = AS $\n",
        "\n",
        "**Find**\n",
        "$$\n",
        "\\frac{dJ}{dF} =  \n",
        "$$\n",
        "and\n",
        "$$\n",
        "\\frac{dF}{dS} =  \n",
        "$$\n",
        "(the shape should be $ NM \\times RM )$.\n",
        "\n",
        "Now it is easy do get desired gradients:\n",
        "$$\n",
        "\\frac{dJ}{dS} =  \n",
        "$$"
      ]
    },
    {
      "cell_type": "markdown",
      "source": [
        "To derive the gradient $\\frac{dJ}{dS}$ for the matrix factorization problem, we start with the following definitions and relationships.\n",
        "\n",
        "Given the matrix $X$, we aim to find matrices $A$ and $S$ such that:\n",
        "\n",
        "$$\n",
        "J = ||X - AS||_F^2\n",
        "$$\n",
        "\n",
        "This can be expressed using the trace operator as:\n",
        "\n",
        "$$\n",
        "J = \\text{tr}((X - AS)^T (X - AS)) = \\text{tr}(XX^T) - 2\\text{tr}(ASX^T) + \\text{tr}((AS)^T AS)\n",
        "$$\n",
        "\n",
        "### First Approach: Using the Matrix Derivative Properties\n",
        "\n",
        "We can use the Frobenius norm property in the gradient computations. The key points we will need are:\n",
        "\n",
        "1. The derivative of the Frobenius norm:\n",
        "   $$\n",
        "   \\frac{d}{dS}\\|F\\|_F^2 = 2F \\frac{dF}{dS}\n",
        "   $$\n",
        "   \n",
        "2. Recall that:\n",
        "   $$\n",
        "    \\frac{d}{dS} \\text{tr}(ASX^T) = A^T X,\n",
        "   $$\n",
        "   because we are treating \\(A\\) as constant while differentiating with respect to $S$.\n",
        "\n",
        "3. The expression for $\\text{tr}((AS)^T AS)$ gives:\n",
        "   $$\n",
        "   \\frac{d}{dS} \\text{tr}((AS)^T AS) = 2AS.\n",
        "   $$\n",
        "\n",
        "### Gradient Derivation\n",
        "\n",
        "Given that $F = AS$, the gradient of $J$ in terms of $F$ is derived as follows:\n",
        "\n",
        "#### Step 1: Finding $\\frac{dJ}{dF}$\n",
        "\n",
        "First, we need to find the explicit form of $F$.\n",
        "\n",
        "$$\n",
        "\\frac{dJ}{dF} = -2(X - F)^T.\n",
        "$$\n",
        "\n",
        "This gradient expresses how the cost function $J$ changes with respect to the product $F$.\n",
        "\n",
        "### Step 2: Find $\\frac{dF}{dS}$\n",
        "\n",
        "Next, we calculate how $F = AS$ changes with respect to $S$:\n",
        "\n",
        "The differentiation yields:\n",
        "\n",
        "$$\n",
        "\\frac{dF}{dS} = A,\n",
        "$$\n",
        "\n",
        "where $F \\in \\mathbb{R}^{N \\times M}$, $A \\in \\mathbb{R}^{N \\times R}$, and $S \\in \\mathbb{R}^{R \\times M}$.\n",
        "\n",
        "The shape of $\\frac{dF}{dS}$ is $ NM \\times RM $.\n",
        "\n",
        "### Final Step: Putting It Together\n",
        "\n",
        "With these derivatives, we can now find the desired gradient using the chain rule:\n",
        "\n",
        "$$\n",
        "\\frac{dJ}{dS} = \\frac{dJ}{dF} \\cdot \\frac{dF}{dS}.\n",
        "$$\n",
        "Plugging in the derivatives we found:\n",
        "\n",
        "$$\n",
        "\\frac{dJ}{dS} = -2(X - F)^T A.\n",
        "$$\n",
        "\n",
        "### Conclusion\n",
        "\n",
        "Thus, the gradient of the cost function with respect to $S$ is:\n",
        "\n",
        "$$\n",
        "\\frac{dJ}{dS} = -2(X - AS)^T A,\n",
        "$$\n",
        "\n",
        "which gives us our required gradient for updating $S$ in the alternating optimization approach used in matrix factorization."
      ],
      "metadata": {
        "id": "oHz-ATJILSS9"
      }
    },
    {
      "cell_type": "markdown",
      "metadata": {
        "collapsed": true,
        "jupyter": {
          "outputs_hidden": true
        },
        "id": "N7-iMeJdH1nM"
      },
      "source": [
        "## 2. kNN questions\n",
        "Here come the questions from the assignment0_01. Please, refer to the assignment0_01 to get the context of the questions."
      ]
    },
    {
      "cell_type": "markdown",
      "metadata": {
        "id": "ruZhqmQpH1nM"
      },
      "source": [
        "### Question 1\n",
        "\n",
        "Notice the structured patterns in the distance matrix, where some rows or columns are visible brighter. (Note that with the default color scheme black indicates low distances while white indicates high distances.)\n",
        "\n",
        "- What in the data is the cause behind the distinctly bright rows?\n",
        "- What causes the columns?\n",
        "\n",
        "*Your Answer:*\n",
        "\n",
        "\n"
      ]
    },
    {
      "cell_type": "markdown",
      "metadata": {
        "id": "gJVypmgYH1nM"
      },
      "source": [
        "### Question 2\n",
        "\n",
        "We can also use other distance metrics such as L1 distance.\n",
        "For pixel values $p_{ij}^{(k)}$ at location $(i,j)$ of some image $I_k$,\n",
        "\n",
        "the mean $\\mu$ across all pixels over all images is $$\\mu=\\frac{1}{nhw}\\sum_{k=1}^n\\sum_{i=1}^{h}\\sum_{j=1}^{w}p_{ij}^{(k)}$$\n",
        "And the pixel-wise mean $\\mu_{ij}$ across all images is\n",
        "$$\\mu_{ij}=\\frac{1}{n}\\sum_{k=1}^np_{ij}^{(k)}.$$\n",
        "The general standard deviation $\\sigma$ and pixel-wise standard deviation $\\sigma_{ij}$ is defined similarly.\n",
        "\n",
        "Which of the following preprocessing steps will not change the performance of a Nearest Neighbor classifier that uses L1 distance? Select all that apply.\n",
        "1. Subtracting the mean $\\mu$ ($\\tilde{p}_{ij}^{(k)}=p_{ij}^{(k)}-\\mu$.)\n",
        "2. Subtracting the per pixel mean $\\mu_{ij}$  ($\\tilde{p}_{ij}^{(k)}=p_{ij}^{(k)}-\\mu_{ij}$.)\n",
        "3. Subtracting the mean $\\mu$ and dividing by the standard deviation $\\sigma$.\n",
        "4. Subtracting the pixel-wise mean $\\mu_{ij}$ and dividing by the pixel-wise standard deviation $\\sigma_{ij}$.\n",
        "5. Rotating the coordinate axes of the data.\n",
        "\n",
        "*Your Answer:*\n",
        "- **1. Subtracting the mean $\\mu$**\n",
        "- **2. Subtracting the per pixel mean $\\mu_{ij}$**\n",
        "\n",
        "*Your Explanation:*\n",
        "\n",
        "To determine which preprocessing steps will not change the performance of a Nearest Neighbor classifier that uses L1 distance, let's analyze each option:\n",
        "\n",
        "1. **Subtracting the mean $\\mu$ $(\\tilde{p}_{ij}^{(k)}=p_{ij}^{(k)}-\\mu)$**:\n",
        "   - This operation shifts all pixel values uniformly. Since L1 distance is insensitive to the absolute value but depends only on the difference between pixel values, this preprocessing step will not affect the pairwise distances. Therefore, this step **will not change the performance**.\n",
        "\n",
        "2. **Subtracting the per pixel mean $\\mu_{ij}$ $(\\tilde{p}_{ij}^{(k)}=p_{ij}^{(k)}-\\mu_{ij})$**:\n",
        "   - Subtracting the per pixel mean also shifts the pixel values for each pixel location independently. Similar to the first step, this will not change the distance relationships among the pixel values because L1 distance is translation invariant. Thus, this step **will not change the performance**.\n",
        "\n",
        "3. **Subtracting the mean $\\mu$ and dividing by the standard deviation \\$sigma$**:\n",
        "   - This operation standardizes the pixel values across the entire dataset. While the L1 distance is invariant to shifting (subtracting $\\mu$), dividing by $\\sigma$ changes the scale of the distance between points, potentially affecting nearest neighbor relationships. Therefore, this step **will change the performance**.\n",
        "\n",
        "4. **Subtracting the pixel-wise mean $\\mu_{ij}$ and dividing by the pixel-wise standard deviation $\\sigma_{ij}$**:\n",
        "   - Similar to the previous case, this standardization changes the scale of the data for each pixel. While it centers the data, dividing by the standard deviation changes the distances among points. Therefore, this step **will change the performance**.\n",
        "\n",
        "5. **Rotating the coordinate axes of the data**:\n",
        "   - Rotating the coordinate axes modifies the relationship between the pixel values in space, which can affect the distance calculations. Since nearest neighbor classification relies on the relative positions of points in space, this rotation will definitely change the performance. Thus, this step **will change the performance**."
      ]
    },
    {
      "cell_type": "markdown",
      "metadata": {
        "id": "TIT7S2uTH1nM"
      },
      "source": [
        "## Question 3\n",
        "\n",
        "Which of the following statements about $k$-Nearest Neighbor ($k$-NN) are true in a classification setting, and for all $k$? Select all that apply.\n",
        "1. The decision boundary (hyperplane between classes in feature space) of the k-NN classifier is linear.\n",
        "2. The training error of a 1-NN will always be lower than that of 5-NN.\n",
        "3. The test error of a 1-NN will always be lower than that of a 5-NN.\n",
        "4. The time needed to classify a test example with the k-NN classifier grows with the size of the training set.\n",
        "5. None of the above.\n",
        "\n",
        "*Your Answer:*\n",
        "- **2. The training error of a 1-NN will always be lower than that of 5-NN.**\n",
        "- **4. The time needed to classify a test example with the k-NN classifier grows with the size of the training set.**\n",
        "\n",
        "*Your Explanation:*\n",
        "\n",
        "Let's evaluate each statement about \\( k \\)-Nearest Neighbor (k-NN) in a classification setting.\n",
        "\n",
        "1. **The decision boundary (hyperplane between classes in feature space) of the k-NN classifier is linear.**\n",
        "   - **False.** The decision boundary of a k-NN classifier is generally **non-linear**. It can be very complex and is determined by the distribution of the training data points and the parameter \\( k \\).\n",
        "\n",
        "2. **The training error of a 1-NN will always be lower than that of 5-NN.**\n",
        "   - **True.** In a k-NN classifier, the 1-NN (1-Nearest Neighbor) classifier will assign the label of the single nearest training example. Thus, it can perfectly classify the training points, leading to a training error of 0. In contrast, a 5-NN classifier averages its decision over the five nearest neighbors, which can potentially misclassify some training points.\n",
        "\n",
        "3. **The test error of a 1-NN will always be lower than that of a 5-NN.**\n",
        "   - **False.** While a 1-NN classifier may fit the training data perfectly, it is also prone to overfitting and may perform poorly on unseen data (test set). Conversely, a 5-NN classifier can smooth out noise and may generalize better, thus leading to potentially lower test error than a 1-NN classifier, depending on the dataset.\n",
        "\n",
        "4. **The time needed to classify a test example with the k-NN classifier grows with the size of the training set.**\n",
        "   - **True.** In k-NN, to classify a test point, you typically need to compute the distance from the test point to all training points. Therefore, as the training set size increases, the time required for classification will also increase linearly with the number of training points.\n",
        "\n",
        "5. **None of the above.**\n",
        "   - **False.**\n"
      ]
    },
    {
      "cell_type": "code",
      "source": [],
      "metadata": {
        "id": "WNGzIgD8M586"
      },
      "execution_count": null,
      "outputs": []
    }
  ],
  "metadata": {
    "kernelspec": {
      "display_name": "mipt",
      "language": "python",
      "name": "mipt"
    },
    "language_info": {
      "codemirror_mode": {
        "name": "ipython",
        "version": 3
      },
      "file_extension": ".py",
      "mimetype": "text/x-python",
      "name": "python",
      "nbconvert_exporter": "python",
      "pygments_lexer": "ipython3",
      "version": "3.9.5"
    },
    "colab": {
      "provenance": []
    }
  },
  "nbformat": 4,
  "nbformat_minor": 0
}