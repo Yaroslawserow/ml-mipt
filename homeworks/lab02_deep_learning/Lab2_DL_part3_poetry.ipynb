{
  "nbformat": 4,
  "nbformat_minor": 0,
  "metadata": {
    "anaconda-cloud": {},
    "kernelspec": {
      "display_name": "Python 3",
      "language": "python",
      "name": "python3"
    },
    "language_info": {
      "codemirror_mode": {
        "name": "ipython",
        "version": 3
      },
      "file_extension": ".py",
      "mimetype": "text/x-python",
      "name": "python",
      "nbconvert_exporter": "python",
      "pygments_lexer": "ipython3",
      "version": "3.6.4"
    },
    "colab": {
      "name": "Lab3_DL_part3_poetry.ipynb",
      "provenance": []
    },
    "accelerator": "GPU",
    "widgets": {
      "application/vnd.jupyter.widget-state+json": {
        "007959fc040d4675ac6eb0f556b0b559": {
          "model_module": "@jupyter-widgets/controls",
          "model_name": "HBoxModel",
          "state": {
            "_view_name": "HBoxView",
            "_dom_classes": [],
            "_model_name": "HBoxModel",
            "_view_module": "@jupyter-widgets/controls",
            "_model_module_version": "1.5.0",
            "_view_count": null,
            "_view_module_version": "1.5.0",
            "box_style": "",
            "layout": "IPY_MODEL_8bfeda6ae9ee43ca8c18767db709eba2",
            "_model_module": "@jupyter-widgets/controls",
            "children": [
              "IPY_MODEL_12f9d039a11944d8baf98a62c64470da",
              "IPY_MODEL_b3155beea91049fa89616c73c3f58a06"
            ]
          }
        },
        "8bfeda6ae9ee43ca8c18767db709eba2": {
          "model_module": "@jupyter-widgets/base",
          "model_name": "LayoutModel",
          "state": {
            "_view_name": "LayoutView",
            "grid_template_rows": null,
            "right": null,
            "justify_content": null,
            "_view_module": "@jupyter-widgets/base",
            "overflow": null,
            "_model_module_version": "1.2.0",
            "_view_count": null,
            "flex_flow": null,
            "width": null,
            "min_width": null,
            "border": null,
            "align_items": null,
            "bottom": null,
            "_model_module": "@jupyter-widgets/base",
            "top": null,
            "grid_column": null,
            "overflow_y": null,
            "overflow_x": null,
            "grid_auto_flow": null,
            "grid_area": null,
            "grid_template_columns": null,
            "flex": null,
            "_model_name": "LayoutModel",
            "justify_items": null,
            "grid_row": null,
            "max_height": null,
            "align_content": null,
            "visibility": null,
            "align_self": null,
            "height": null,
            "min_height": null,
            "padding": null,
            "grid_auto_rows": null,
            "grid_gap": null,
            "max_width": null,
            "order": null,
            "_view_module_version": "1.2.0",
            "grid_template_areas": null,
            "object_position": null,
            "object_fit": null,
            "grid_auto_columns": null,
            "margin": null,
            "display": null,
            "left": null
          }
        },
        "12f9d039a11944d8baf98a62c64470da": {
          "model_module": "@jupyter-widgets/controls",
          "model_name": "FloatProgressModel",
          "state": {
            "_view_name": "ProgressView",
            "style": "IPY_MODEL_b645e66c03b94b29819eebac9fbc5d5f",
            "_dom_classes": [],
            "description": "100%",
            "_model_name": "FloatProgressModel",
            "bar_style": "success",
            "max": 6000,
            "_view_module": "@jupyter-widgets/controls",
            "_model_module_version": "1.5.0",
            "value": 6000,
            "_view_count": null,
            "_view_module_version": "1.5.0",
            "orientation": "horizontal",
            "min": 0,
            "description_tooltip": null,
            "_model_module": "@jupyter-widgets/controls",
            "layout": "IPY_MODEL_bfc93c6a36a2490dbeb65c1993683156"
          }
        },
        "b3155beea91049fa89616c73c3f58a06": {
          "model_module": "@jupyter-widgets/controls",
          "model_name": "HTMLModel",
          "state": {
            "_view_name": "HTMLView",
            "style": "IPY_MODEL_99df7810fe424c46be28f9b705a19041",
            "_dom_classes": [],
            "description": "",
            "_model_name": "HTMLModel",
            "placeholder": "​",
            "_view_module": "@jupyter-widgets/controls",
            "_model_module_version": "1.5.0",
            "value": " 6000/6000 [17:40&lt;00:00,  5.66it/s]",
            "_view_count": null,
            "_view_module_version": "1.5.0",
            "description_tooltip": null,
            "_model_module": "@jupyter-widgets/controls",
            "layout": "IPY_MODEL_912e39d0b2c34823b054324da6ddd34e"
          }
        },
        "b645e66c03b94b29819eebac9fbc5d5f": {
          "model_module": "@jupyter-widgets/controls",
          "model_name": "ProgressStyleModel",
          "state": {
            "_view_name": "StyleView",
            "_model_name": "ProgressStyleModel",
            "description_width": "initial",
            "_view_module": "@jupyter-widgets/base",
            "_model_module_version": "1.5.0",
            "_view_count": null,
            "_view_module_version": "1.2.0",
            "bar_color": null,
            "_model_module": "@jupyter-widgets/controls"
          }
        },
        "bfc93c6a36a2490dbeb65c1993683156": {
          "model_module": "@jupyter-widgets/base",
          "model_name": "LayoutModel",
          "state": {
            "_view_name": "LayoutView",
            "grid_template_rows": null,
            "right": null,
            "justify_content": null,
            "_view_module": "@jupyter-widgets/base",
            "overflow": null,
            "_model_module_version": "1.2.0",
            "_view_count": null,
            "flex_flow": null,
            "width": null,
            "min_width": null,
            "border": null,
            "align_items": null,
            "bottom": null,
            "_model_module": "@jupyter-widgets/base",
            "top": null,
            "grid_column": null,
            "overflow_y": null,
            "overflow_x": null,
            "grid_auto_flow": null,
            "grid_area": null,
            "grid_template_columns": null,
            "flex": null,
            "_model_name": "LayoutModel",
            "justify_items": null,
            "grid_row": null,
            "max_height": null,
            "align_content": null,
            "visibility": null,
            "align_self": null,
            "height": null,
            "min_height": null,
            "padding": null,
            "grid_auto_rows": null,
            "grid_gap": null,
            "max_width": null,
            "order": null,
            "_view_module_version": "1.2.0",
            "grid_template_areas": null,
            "object_position": null,
            "object_fit": null,
            "grid_auto_columns": null,
            "margin": null,
            "display": null,
            "left": null
          }
        },
        "99df7810fe424c46be28f9b705a19041": {
          "model_module": "@jupyter-widgets/controls",
          "model_name": "DescriptionStyleModel",
          "state": {
            "_view_name": "StyleView",
            "_model_name": "DescriptionStyleModel",
            "description_width": "",
            "_view_module": "@jupyter-widgets/base",
            "_model_module_version": "1.5.0",
            "_view_count": null,
            "_view_module_version": "1.2.0",
            "_model_module": "@jupyter-widgets/controls"
          }
        },
        "912e39d0b2c34823b054324da6ddd34e": {
          "model_module": "@jupyter-widgets/base",
          "model_name": "LayoutModel",
          "state": {
            "_view_name": "LayoutView",
            "grid_template_rows": null,
            "right": null,
            "justify_content": null,
            "_view_module": "@jupyter-widgets/base",
            "overflow": null,
            "_model_module_version": "1.2.0",
            "_view_count": null,
            "flex_flow": null,
            "width": null,
            "min_width": null,
            "border": null,
            "align_items": null,
            "bottom": null,
            "_model_module": "@jupyter-widgets/base",
            "top": null,
            "grid_column": null,
            "overflow_y": null,
            "overflow_x": null,
            "grid_auto_flow": null,
            "grid_area": null,
            "grid_template_columns": null,
            "flex": null,
            "_model_name": "LayoutModel",
            "justify_items": null,
            "grid_row": null,
            "max_height": null,
            "align_content": null,
            "visibility": null,
            "align_self": null,
            "height": null,
            "min_height": null,
            "padding": null,
            "grid_auto_rows": null,
            "grid_gap": null,
            "max_width": null,
            "order": null,
            "_view_module_version": "1.2.0",
            "grid_template_areas": null,
            "object_position": null,
            "object_fit": null,
            "grid_auto_columns": null,
            "margin": null,
            "display": null,
            "left": null
          }
        },
        "63bb2eff13ac48398dd39783804ce25a": {
          "model_module": "@jupyter-widgets/controls",
          "model_name": "HBoxModel",
          "state": {
            "_view_name": "HBoxView",
            "_dom_classes": [],
            "_model_name": "HBoxModel",
            "_view_module": "@jupyter-widgets/controls",
            "_model_module_version": "1.5.0",
            "_view_count": null,
            "_view_module_version": "1.5.0",
            "box_style": "",
            "layout": "IPY_MODEL_ab902fc03cb642aaa56253b43333efa6",
            "_model_module": "@jupyter-widgets/controls",
            "children": [
              "IPY_MODEL_ddddbb4dec0e4465bd6769e779dc711e",
              "IPY_MODEL_ba4f4fb50c01405199bd8af9669a4f8f"
            ]
          }
        },
        "ab902fc03cb642aaa56253b43333efa6": {
          "model_module": "@jupyter-widgets/base",
          "model_name": "LayoutModel",
          "state": {
            "_view_name": "LayoutView",
            "grid_template_rows": null,
            "right": null,
            "justify_content": null,
            "_view_module": "@jupyter-widgets/base",
            "overflow": null,
            "_model_module_version": "1.2.0",
            "_view_count": null,
            "flex_flow": null,
            "width": null,
            "min_width": null,
            "border": null,
            "align_items": null,
            "bottom": null,
            "_model_module": "@jupyter-widgets/base",
            "top": null,
            "grid_column": null,
            "overflow_y": null,
            "overflow_x": null,
            "grid_auto_flow": null,
            "grid_area": null,
            "grid_template_columns": null,
            "flex": null,
            "_model_name": "LayoutModel",
            "justify_items": null,
            "grid_row": null,
            "max_height": null,
            "align_content": null,
            "visibility": null,
            "align_self": null,
            "height": null,
            "min_height": null,
            "padding": null,
            "grid_auto_rows": null,
            "grid_gap": null,
            "max_width": null,
            "order": null,
            "_view_module_version": "1.2.0",
            "grid_template_areas": null,
            "object_position": null,
            "object_fit": null,
            "grid_auto_columns": null,
            "margin": null,
            "display": null,
            "left": null
          }
        },
        "ddddbb4dec0e4465bd6769e779dc711e": {
          "model_module": "@jupyter-widgets/controls",
          "model_name": "FloatProgressModel",
          "state": {
            "_view_name": "ProgressView",
            "style": "IPY_MODEL_399a3a9fa4da4e71b78eacd84409a5fc",
            "_dom_classes": [],
            "description": "100%",
            "_model_name": "FloatProgressModel",
            "bar_style": "success",
            "max": 6000,
            "_view_module": "@jupyter-widgets/controls",
            "_model_module_version": "1.5.0",
            "value": 6000,
            "_view_count": null,
            "_view_module_version": "1.5.0",
            "orientation": "horizontal",
            "min": 0,
            "description_tooltip": null,
            "_model_module": "@jupyter-widgets/controls",
            "layout": "IPY_MODEL_dda48d2c5a5c4abba6c8f25878bbc574"
          }
        },
        "ba4f4fb50c01405199bd8af9669a4f8f": {
          "model_module": "@jupyter-widgets/controls",
          "model_name": "HTMLModel",
          "state": {
            "_view_name": "HTMLView",
            "style": "IPY_MODEL_56532c3b2ad34207b5e8fea32193d240",
            "_dom_classes": [],
            "description": "",
            "_model_name": "HTMLModel",
            "placeholder": "​",
            "_view_module": "@jupyter-widgets/controls",
            "_model_module_version": "1.5.0",
            "value": " 6000/6000 [1:01:47&lt;00:00,  1.62it/s]",
            "_view_count": null,
            "_view_module_version": "1.5.0",
            "description_tooltip": null,
            "_model_module": "@jupyter-widgets/controls",
            "layout": "IPY_MODEL_ab09e4bb6bf54abab57e7a8e97a5cdd3"
          }
        },
        "399a3a9fa4da4e71b78eacd84409a5fc": {
          "model_module": "@jupyter-widgets/controls",
          "model_name": "ProgressStyleModel",
          "state": {
            "_view_name": "StyleView",
            "_model_name": "ProgressStyleModel",
            "description_width": "initial",
            "_view_module": "@jupyter-widgets/base",
            "_model_module_version": "1.5.0",
            "_view_count": null,
            "_view_module_version": "1.2.0",
            "bar_color": null,
            "_model_module": "@jupyter-widgets/controls"
          }
        },
        "dda48d2c5a5c4abba6c8f25878bbc574": {
          "model_module": "@jupyter-widgets/base",
          "model_name": "LayoutModel",
          "state": {
            "_view_name": "LayoutView",
            "grid_template_rows": null,
            "right": null,
            "justify_content": null,
            "_view_module": "@jupyter-widgets/base",
            "overflow": null,
            "_model_module_version": "1.2.0",
            "_view_count": null,
            "flex_flow": null,
            "width": null,
            "min_width": null,
            "border": null,
            "align_items": null,
            "bottom": null,
            "_model_module": "@jupyter-widgets/base",
            "top": null,
            "grid_column": null,
            "overflow_y": null,
            "overflow_x": null,
            "grid_auto_flow": null,
            "grid_area": null,
            "grid_template_columns": null,
            "flex": null,
            "_model_name": "LayoutModel",
            "justify_items": null,
            "grid_row": null,
            "max_height": null,
            "align_content": null,
            "visibility": null,
            "align_self": null,
            "height": null,
            "min_height": null,
            "padding": null,
            "grid_auto_rows": null,
            "grid_gap": null,
            "max_width": null,
            "order": null,
            "_view_module_version": "1.2.0",
            "grid_template_areas": null,
            "object_position": null,
            "object_fit": null,
            "grid_auto_columns": null,
            "margin": null,
            "display": null,
            "left": null
          }
        },
        "56532c3b2ad34207b5e8fea32193d240": {
          "model_module": "@jupyter-widgets/controls",
          "model_name": "DescriptionStyleModel",
          "state": {
            "_view_name": "StyleView",
            "_model_name": "DescriptionStyleModel",
            "description_width": "",
            "_view_module": "@jupyter-widgets/base",
            "_model_module_version": "1.5.0",
            "_view_count": null,
            "_view_module_version": "1.2.0",
            "_model_module": "@jupyter-widgets/controls"
          }
        },
        "ab09e4bb6bf54abab57e7a8e97a5cdd3": {
          "model_module": "@jupyter-widgets/base",
          "model_name": "LayoutModel",
          "state": {
            "_view_name": "LayoutView",
            "grid_template_rows": null,
            "right": null,
            "justify_content": null,
            "_view_module": "@jupyter-widgets/base",
            "overflow": null,
            "_model_module_version": "1.2.0",
            "_view_count": null,
            "flex_flow": null,
            "width": null,
            "min_width": null,
            "border": null,
            "align_items": null,
            "bottom": null,
            "_model_module": "@jupyter-widgets/base",
            "top": null,
            "grid_column": null,
            "overflow_y": null,
            "overflow_x": null,
            "grid_auto_flow": null,
            "grid_area": null,
            "grid_template_columns": null,
            "flex": null,
            "_model_name": "LayoutModel",
            "justify_items": null,
            "grid_row": null,
            "max_height": null,
            "align_content": null,
            "visibility": null,
            "align_self": null,
            "height": null,
            "min_height": null,
            "padding": null,
            "grid_auto_rows": null,
            "grid_gap": null,
            "max_width": null,
            "order": null,
            "_view_module_version": "1.2.0",
            "grid_template_areas": null,
            "object_position": null,
            "object_fit": null,
            "grid_auto_columns": null,
            "margin": null,
            "display": null,
            "left": null
          }
        }
      }
    }
  },
  "cells": [
    {
      "cell_type": "markdown",
      "metadata": {
        "id": "yBHlkwaXXhj4",
        "colab_type": "text"
      },
      "source": [
        "## Lab 3"
      ]
    },
    {
      "cell_type": "markdown",
      "metadata": {
        "id": "KlE-5rX1Xhj6",
        "colab_type": "text"
      },
      "source": [
        "### Part 3. Poetry generation\n",
        "\n",
        "Let's try to generate some poetry using RNNs. \n",
        "\n",
        "You have several choices here: \n",
        "\n",
        "* The Shakespeare sonnets, file `sonnets.txt` available in the notebook directory.\n",
        "\n",
        "* Роман в стихах \"Евгений Онегин\" Александра Сергеевича Пушкина. В предобработанном виде доступен по [ссылке](https://github.com/attatrol/data_sources/blob/master/onegin.txt).\n",
        "\n",
        "* Some other text source, if it will be approved by the course staff.\n",
        "\n",
        "Text generation can be designed in several steps:\n",
        "    \n",
        "1. Data loading.\n",
        "2. Dictionary generation.\n",
        "3. Data preprocessing.\n",
        "4. Model (neural network) training.\n",
        "5. Text generation (model evaluation).\n"
      ]
    },
    {
      "cell_type": "code",
      "metadata": {
        "id": "BodEIRNrXhj7",
        "colab_type": "code",
        "colab": {}
      },
      "source": [
        "import string\n",
        "import os"
      ],
      "execution_count": 0,
      "outputs": []
    },
    {
      "cell_type": "markdown",
      "metadata": {
        "id": "wMgOv3RPXhkA",
        "colab_type": "text"
      },
      "source": [
        "### Data loading: Shakespeare"
      ]
    },
    {
      "cell_type": "markdown",
      "metadata": {
        "id": "VDgGZIrvXhkB",
        "colab_type": "text"
      },
      "source": [
        "Shakespeare sonnets are awailable at this [link](http://www.gutenberg.org/ebooks/1041?msg=welcome_stranger). In addition, they are stored in the same directory as this notebook (`sonnetes.txt`). Simple preprocessing is already done for you in the next cell: all technical info is dropped."
      ]
    },
    {
      "cell_type": "code",
      "metadata": {
        "id": "incFjiKsXhkC",
        "colab_type": "code",
        "colab": {}
      },
      "source": [
        "if not os.path.exists('sonnets.txt'):\n",
        "    !wget https://raw.githubusercontent.com/ml-mipt/ml-mipt/master/homeworks_basic/Lab2_DL/sonnets.txt\n",
        "\n",
        "with open('sonnets.txt', 'r') as iofile:\n",
        "    text = iofile.readlines()\n",
        "    \n",
        "TEXT_START = 45\n",
        "TEXT_END = -368\n",
        "text = text[TEXT_START : TEXT_END]\n",
        "assert len(text) == 2616"
      ],
      "execution_count": 0,
      "outputs": []
    },
    {
      "cell_type": "markdown",
      "metadata": {
        "id": "XkMAOG1bXhkF",
        "colab_type": "text"
      },
      "source": [
        "In opposite to the in-class practice, this time we want to predict complex text. Let's reduce the complexity of the task and lowercase all the symbols.\n",
        "\n",
        "Now variable `text` is a list of strings. Join all the strings into one and lowercase it."
      ]
    },
    {
      "cell_type": "code",
      "metadata": {
        "id": "p-3utv_hXhkG",
        "colab_type": "code",
        "colab": {
          "base_uri": "https://localhost:8080/",
          "height": 34
        },
        "outputId": "12356efb-4a99-47c5-8b45-9dae2194a53e"
      },
      "source": [
        "# Join all the strings into one and lowercase it\n",
        "# Put result into variable text.\n",
        "text = ''.join(text).lower()\n",
        "# Your great code here\n",
        "assert len(text) == 100225, 'Are you sure you have concatenated all the strings?'\n",
        "assert not any([x in set(text) for x in string.ascii_uppercase]), 'Uppercase letters are present'\n",
        "print('OK!')"
      ],
      "execution_count": 28,
      "outputs": [
        {
          "output_type": "stream",
          "text": [
            "OK!\n"
          ],
          "name": "stdout"
        }
      ]
    },
    {
      "cell_type": "markdown",
      "metadata": {
        "id": "vAyLPxjyXhkI",
        "colab_type": "text"
      },
      "source": [
        "### Data loading: \"Евгений Онегин\"\n"
      ]
    },
    {
      "cell_type": "code",
      "metadata": {
        "id": "JRasdv1jXhkJ",
        "colab_type": "code",
        "colab": {
          "base_uri": "https://localhost:8080/",
          "height": 204
        },
        "outputId": "5b41893d-e8bd-4ecd-997d-83bd137ac126"
      },
      "source": [
        "!wget https://raw.githubusercontent.com/attatrol/data_sources/master/onegin.txt\n",
        "    \n",
        "with open('onegin.txt', 'r') as iofile:\n",
        "    text = iofile.readlines()\n",
        "    \n",
        "text = [x.replace('\\t\\t', '') for x in text]"
      ],
      "execution_count": 9,
      "outputs": [
        {
          "output_type": "stream",
          "text": [
            "--2020-05-25 20:19:31--  https://raw.githubusercontent.com/attatrol/data_sources/master/onegin.txt\n",
            "Resolving raw.githubusercontent.com (raw.githubusercontent.com)... 151.101.0.133, 151.101.64.133, 151.101.128.133, ...\n",
            "Connecting to raw.githubusercontent.com (raw.githubusercontent.com)|151.101.0.133|:443... connected.\n",
            "HTTP request sent, awaiting response... 200 OK\n",
            "Length: 262521 (256K) [text/plain]\n",
            "Saving to: ‘onegin.txt.2’\n",
            "\n",
            "\ronegin.txt.2          0%[                    ]       0  --.-KB/s               \ronegin.txt.2        100%[===================>] 256.37K  --.-KB/s    in 0.02s   \n",
            "\n",
            "2020-05-25 20:19:31 (15.0 MB/s) - ‘onegin.txt.2’ saved [262521/262521]\n",
            "\n"
          ],
          "name": "stdout"
        }
      ]
    },
    {
      "cell_type": "markdown",
      "metadata": {
        "id": "XQJgeYcDXhkL",
        "colab_type": "text"
      },
      "source": [
        "In opposite to the in-class practice, this time we want to predict complex text. Let's reduce the complexity of the task and lowercase all the symbols.\n",
        "\n",
        "Now variable `text` is a list of strings. Join all the strings into one and lowercase it."
      ]
    },
    {
      "cell_type": "code",
      "metadata": {
        "id": "Db_0d_URXhkM",
        "colab_type": "code",
        "colab": {}
      },
      "source": [
        "# Join all the strings into one and lowercase it\n",
        "# Put result into variable text.\n",
        "text = ''.join(text).lower()\n",
        "# Your great code here\n"
      ],
      "execution_count": 0,
      "outputs": []
    },
    {
      "cell_type": "markdown",
      "metadata": {
        "id": "7gvzzijeXhkN",
        "colab_type": "text"
      },
      "source": [
        "Put all the characters, that you've seen in the text, into variable `tokens`."
      ]
    },
    {
      "cell_type": "code",
      "metadata": {
        "id": "kKe6ZltYXhkO",
        "colab_type": "code",
        "colab": {}
      },
      "source": [
        "tokens = sorted(set(text))"
      ],
      "execution_count": 0,
      "outputs": []
    },
    {
      "cell_type": "markdown",
      "metadata": {
        "id": "50ObryKSXhkP",
        "colab_type": "text"
      },
      "source": [
        "Create dictionary `token_to_idx = {<char>: <index>}` and dictionary `idx_to_token = {<index>: <char>}`"
      ]
    },
    {
      "cell_type": "code",
      "metadata": {
        "id": "eBEktYJzXhkQ",
        "colab_type": "code",
        "colab": {}
      },
      "source": [
        "# dict <index>:<char>\n",
        "idx_to_token = {i: tokens[i] for i in range(len(tokens))}\n",
        "\n",
        "# dict <char>:<index>\n",
        "token_to_idx = {tokens[i]: i for i in range(len(tokens))}"
      ],
      "execution_count": 0,
      "outputs": []
    },
    {
      "cell_type": "markdown",
      "metadata": {
        "id": "5bZk3LKlXhkR",
        "colab_type": "text"
      },
      "source": [
        "*Comment: in this task we have only 38 different tokens, so let's use one-hot encoding.*"
      ]
    },
    {
      "cell_type": "markdown",
      "metadata": {
        "id": "j_LPckTqXhkR",
        "colab_type": "text"
      },
      "source": [
        "### Building the model"
      ]
    },
    {
      "cell_type": "markdown",
      "metadata": {
        "id": "ZebkkF9OXhkR",
        "colab_type": "text"
      },
      "source": [
        "Now we want to build and train recurrent neural net which would be able to something similar to Shakespeare's poetry.\n",
        "\n",
        "Let's use vanilla RNN, similar to the one created during the lesson."
      ]
    },
    {
      "cell_type": "code",
      "metadata": {
        "id": "wq3UnMXqYXLI",
        "colab_type": "code",
        "colab": {}
      },
      "source": [
        "import torch\n",
        "import torch.nn as nn\n",
        "import torchvision\n",
        "import torchvision.transforms as transforms\n",
        "import torchsummary\n",
        "from IPython.display import clear_output\n",
        "from matplotlib import pyplot as plt\n",
        "from matplotlib.pyplot import figure\n",
        "import numpy as np\n",
        "import os\n",
        "from tqdm import tqdm_notebook as tqdm\n",
        "\n",
        "\n",
        "device = 'cuda:0' if torch.cuda.is_available() else 'cpu'"
      ],
      "execution_count": 0,
      "outputs": []
    },
    {
      "cell_type": "code",
      "metadata": {
        "id": "IvCJeEFIYutm",
        "colab_type": "code",
        "colab": {}
      },
      "source": [
        "class RNN(nn.Module):\n",
        "    def __init__(self, in_size, hidden_size, out_size=None):\n",
        "        super(RNN, self).__init__()\n",
        "        if out_size is None:\n",
        "            out_size = in_size\n",
        "        \n",
        "        self.rnn = nn.RNN(in_size, hidden_size)\n",
        "        self.o2y = nn.Linear(hidden_size, out_size)\n",
        "        \n",
        "        self.hidden_size = hidden_size\n",
        "    \n",
        "    def forward(self, x, h):\n",
        "        o, h = self.rnn(x, h)\n",
        "        y = self.o2y(o.view(-1, self.hidden_size))\n",
        "        return y, h"
      ],
      "execution_count": 0,
      "outputs": []
    },
    {
      "cell_type": "code",
      "metadata": {
        "id": "Gsrzzj89XhkS",
        "colab_type": "code",
        "colab": {}
      },
      "source": [
        "def token_to_vector(c):\n",
        "    v = torch.zeros(len(tokens))\n",
        "    v[token_to_idx[c]] = 1\n",
        "    return v\n",
        "\n",
        "def vector_to_token(v):\n",
        "    return idx_to_token[torch.argmax(v).item()]"
      ],
      "execution_count": 0,
      "outputs": []
    },
    {
      "cell_type": "code",
      "metadata": {
        "id": "SuEDbGi2YW0U",
        "colab_type": "code",
        "colab": {
          "base_uri": "https://localhost:8080/",
          "height": 324
        },
        "outputId": "1b76c297-d479-4285-f555-98a3fc4d462e"
      },
      "source": [
        "text_vector = torch.cat([token_to_vector(c).unsqueeze(0) for c in text], dim=0)\n",
        "text_idx = torch.cat([torch.LongTensor([token_to_idx[c]]) for c in text], dim=0)"
      ],
      "execution_count": 33,
      "outputs": [
        {
          "output_type": "error",
          "ename": "KeyError",
          "evalue": "ignored",
          "traceback": [
            "\u001b[0;31m---------------------------------------------------------------------------\u001b[0m",
            "\u001b[0;31mKeyError\u001b[0m                                  Traceback (most recent call last)",
            "\u001b[0;32m<ipython-input-33-676f34127ff5>\u001b[0m in \u001b[0;36m<module>\u001b[0;34m()\u001b[0m\n\u001b[0;32m----> 1\u001b[0;31m \u001b[0mtext_vector\u001b[0m \u001b[0;34m=\u001b[0m \u001b[0mtorch\u001b[0m\u001b[0;34m.\u001b[0m\u001b[0mcat\u001b[0m\u001b[0;34m(\u001b[0m\u001b[0;34m[\u001b[0m\u001b[0mtoken_to_vector\u001b[0m\u001b[0;34m(\u001b[0m\u001b[0mc\u001b[0m\u001b[0;34m)\u001b[0m\u001b[0;34m.\u001b[0m\u001b[0munsqueeze\u001b[0m\u001b[0;34m(\u001b[0m\u001b[0;36m0\u001b[0m\u001b[0;34m)\u001b[0m \u001b[0;32mfor\u001b[0m \u001b[0mc\u001b[0m \u001b[0;32min\u001b[0m \u001b[0mtext\u001b[0m\u001b[0;34m]\u001b[0m\u001b[0;34m,\u001b[0m \u001b[0mdim\u001b[0m\u001b[0;34m=\u001b[0m\u001b[0;36m0\u001b[0m\u001b[0;34m)\u001b[0m\u001b[0;34m\u001b[0m\u001b[0;34m\u001b[0m\u001b[0m\n\u001b[0m\u001b[1;32m      2\u001b[0m \u001b[0mtext_idx\u001b[0m \u001b[0;34m=\u001b[0m \u001b[0mtorch\u001b[0m\u001b[0;34m.\u001b[0m\u001b[0mcat\u001b[0m\u001b[0;34m(\u001b[0m\u001b[0;34m[\u001b[0m\u001b[0mtorch\u001b[0m\u001b[0;34m.\u001b[0m\u001b[0mLongTensor\u001b[0m\u001b[0;34m(\u001b[0m\u001b[0;34m[\u001b[0m\u001b[0mtoken_to_idx\u001b[0m\u001b[0;34m[\u001b[0m\u001b[0mc\u001b[0m\u001b[0;34m]\u001b[0m\u001b[0;34m]\u001b[0m\u001b[0;34m)\u001b[0m \u001b[0;32mfor\u001b[0m \u001b[0mc\u001b[0m \u001b[0;32min\u001b[0m \u001b[0mtext\u001b[0m\u001b[0;34m]\u001b[0m\u001b[0;34m,\u001b[0m \u001b[0mdim\u001b[0m\u001b[0;34m=\u001b[0m\u001b[0;36m0\u001b[0m\u001b[0;34m)\u001b[0m\u001b[0;34m\u001b[0m\u001b[0;34m\u001b[0m\u001b[0m\n",
            "\u001b[0;32m<ipython-input-33-676f34127ff5>\u001b[0m in \u001b[0;36m<listcomp>\u001b[0;34m(.0)\u001b[0m\n\u001b[0;32m----> 1\u001b[0;31m \u001b[0mtext_vector\u001b[0m \u001b[0;34m=\u001b[0m \u001b[0mtorch\u001b[0m\u001b[0;34m.\u001b[0m\u001b[0mcat\u001b[0m\u001b[0;34m(\u001b[0m\u001b[0;34m[\u001b[0m\u001b[0mtoken_to_vector\u001b[0m\u001b[0;34m(\u001b[0m\u001b[0mc\u001b[0m\u001b[0;34m)\u001b[0m\u001b[0;34m.\u001b[0m\u001b[0munsqueeze\u001b[0m\u001b[0;34m(\u001b[0m\u001b[0;36m0\u001b[0m\u001b[0;34m)\u001b[0m \u001b[0;32mfor\u001b[0m \u001b[0mc\u001b[0m \u001b[0;32min\u001b[0m \u001b[0mtext\u001b[0m\u001b[0;34m]\u001b[0m\u001b[0;34m,\u001b[0m \u001b[0mdim\u001b[0m\u001b[0;34m=\u001b[0m\u001b[0;36m0\u001b[0m\u001b[0;34m)\u001b[0m\u001b[0;34m\u001b[0m\u001b[0;34m\u001b[0m\u001b[0m\n\u001b[0m\u001b[1;32m      2\u001b[0m \u001b[0mtext_idx\u001b[0m \u001b[0;34m=\u001b[0m \u001b[0mtorch\u001b[0m\u001b[0;34m.\u001b[0m\u001b[0mcat\u001b[0m\u001b[0;34m(\u001b[0m\u001b[0;34m[\u001b[0m\u001b[0mtorch\u001b[0m\u001b[0;34m.\u001b[0m\u001b[0mLongTensor\u001b[0m\u001b[0;34m(\u001b[0m\u001b[0;34m[\u001b[0m\u001b[0mtoken_to_idx\u001b[0m\u001b[0;34m[\u001b[0m\u001b[0mc\u001b[0m\u001b[0;34m]\u001b[0m\u001b[0;34m]\u001b[0m\u001b[0;34m)\u001b[0m \u001b[0;32mfor\u001b[0m \u001b[0mc\u001b[0m \u001b[0;32min\u001b[0m \u001b[0mtext\u001b[0m\u001b[0;34m]\u001b[0m\u001b[0;34m,\u001b[0m \u001b[0mdim\u001b[0m\u001b[0;34m=\u001b[0m\u001b[0;36m0\u001b[0m\u001b[0;34m)\u001b[0m\u001b[0;34m\u001b[0m\u001b[0;34m\u001b[0m\u001b[0m\n",
            "\u001b[0;32m<ipython-input-32-0d7697130515>\u001b[0m in \u001b[0;36mtoken_to_vector\u001b[0;34m(c)\u001b[0m\n\u001b[1;32m      1\u001b[0m \u001b[0;32mdef\u001b[0m \u001b[0mtoken_to_vector\u001b[0m\u001b[0;34m(\u001b[0m\u001b[0mc\u001b[0m\u001b[0;34m)\u001b[0m\u001b[0;34m:\u001b[0m\u001b[0;34m\u001b[0m\u001b[0;34m\u001b[0m\u001b[0m\n\u001b[1;32m      2\u001b[0m     \u001b[0mv\u001b[0m \u001b[0;34m=\u001b[0m \u001b[0mtorch\u001b[0m\u001b[0;34m.\u001b[0m\u001b[0mzeros\u001b[0m\u001b[0;34m(\u001b[0m\u001b[0mlen\u001b[0m\u001b[0;34m(\u001b[0m\u001b[0mtokens\u001b[0m\u001b[0;34m)\u001b[0m\u001b[0;34m)\u001b[0m\u001b[0;34m\u001b[0m\u001b[0;34m\u001b[0m\u001b[0m\n\u001b[0;32m----> 3\u001b[0;31m     \u001b[0mv\u001b[0m\u001b[0;34m[\u001b[0m\u001b[0mtoken_to_idx\u001b[0m\u001b[0;34m[\u001b[0m\u001b[0mc\u001b[0m\u001b[0;34m]\u001b[0m\u001b[0;34m]\u001b[0m \u001b[0;34m=\u001b[0m \u001b[0;36m1\u001b[0m\u001b[0;34m\u001b[0m\u001b[0;34m\u001b[0m\u001b[0m\n\u001b[0m\u001b[1;32m      4\u001b[0m     \u001b[0;32mreturn\u001b[0m \u001b[0mv\u001b[0m\u001b[0;34m\u001b[0m\u001b[0;34m\u001b[0m\u001b[0m\n\u001b[1;32m      5\u001b[0m \u001b[0;34m\u001b[0m\u001b[0m\n",
            "\u001b[0;31mKeyError\u001b[0m: \"'\""
          ]
        }
      ]
    },
    {
      "cell_type": "code",
      "metadata": {
        "id": "Qm8WzhcqYU0J",
        "colab_type": "code",
        "colab": {}
      },
      "source": [
        "def get_batch(batch_size=128, length=512):\n",
        "    starts = torch.randint(len(text) - length, (batch_size,))\n",
        "    x = torch.cat([text_vector[s:s+length].unsqueeze(1) for s in starts], dim=1)\n",
        "    y = torch.cat([text_idx[s+1:s+1+length].unsqueeze(1) for s in starts], dim=1)\n",
        "    return x, y"
      ],
      "execution_count": 0,
      "outputs": []
    },
    {
      "cell_type": "code",
      "metadata": {
        "id": "Oei7YxQSZEnM",
        "colab_type": "code",
        "colab": {}
      },
      "source": [
        "def train_rnn_net(net, lr=0.001, n_epoch=20, batch_size=128, clip_grad=False, second_hidden=False):\n",
        "    opt = torch.optim.Adam(net.parameters(), lr=lr)\n",
        "    criterion = nn.CrossEntropyLoss().to(device)\n",
        "    losses = []\n",
        "    net = net.to(device)\n",
        "    net.train()\n",
        "    for epoch in tqdm(range(n_epoch)):\n",
        "        opt.zero_grad()\n",
        "        h = torch.zeros(1, batch_size, net.hidden_size, device=device)\n",
        "        if second_hidden:\n",
        "            c = torch.zeros(1, batch_size, net.hidden_size, device=device)\n",
        "        x, y = get_batch(batch_size)\n",
        "        x, y = x.to(device), y.to(device)\n",
        "        if not second_hidden:\n",
        "            output, h_new = net(x, h)\n",
        "        else:\n",
        "            output, (h_new, c_new) = net(x, (h, c))\n",
        "        loss = criterion(output, y.view(-1))\n",
        "        loss.backward()\n",
        "        losses.append(loss.data.item())\n",
        "        if clip_grad:\n",
        "            grad = nn.utils.clip_grad_norm_(net.parameters(), max_norm=1)\n",
        "        opt.step()\n",
        "    plt.figure(figsize=(15, 7))\n",
        "    plt.plot(losses)\n",
        "    plt.xlabel('Epochs')\n",
        "    plt.ylabel('Loss')\n",
        "    plt.grid(c='grey')\n",
        "    plt.show()"
      ],
      "execution_count": 0,
      "outputs": []
    },
    {
      "cell_type": "code",
      "metadata": {
        "id": "KO87ModmZWJQ",
        "colab_type": "code",
        "colab": {}
      },
      "source": [
        "def gen_token(v, temperature):\n",
        "    probs = nn.Softmax(dim=0)(v / temperature)\n",
        "    left = torch.rand(())\n",
        "    idx = 0\n",
        "    for i, p in enumerate(probs):\n",
        "        left -= p\n",
        "        if left < 0:\n",
        "            idx = i\n",
        "            break\n",
        "    return idx_to_token[idx]\n",
        "\n",
        "def generate_text(net, length=500, temperature=1, second_hidden=False):\n",
        "    out = ''    \n",
        "    net = net.to(device)\n",
        "    net.eval()\n",
        "    h = torch.zeros(1, 1, net.hidden_size, device=device)\n",
        "    if second_hidden:\n",
        "        c = torch.zeros(1, 1, net.hidden_size, device=device)\n",
        "    token = '\\n'\n",
        "    for i in range(length - 1):\n",
        "        x = token_to_vector(token).unsqueeze(0).unsqueeze(0).to(device)\n",
        "        if not second_hidden:\n",
        "            v, h = net(x, h)\n",
        "        else:\n",
        "            v, (h, c) = net(x, (h, c))\n",
        "        token = gen_token(v.squeeze(0).squeeze(0), temperature)\n",
        "        out += token\n",
        "    return out"
      ],
      "execution_count": 0,
      "outputs": []
    },
    {
      "cell_type": "code",
      "metadata": {
        "id": "irvDaJD6ZdIJ",
        "colab_type": "code",
        "colab": {}
      },
      "source": [
        "def print_generated(net, length=500, ts=[0.1, 0.2, 0.5, 1.0, 2.0], second_hidden=False):\n",
        "    for t in ts:\n",
        "        print('\\n===== Temperature: {:.1f} ====='.format(t))\n",
        "        print(generate_text(net, length=length, temperature=t, second_hidden=second_hidden))"
      ],
      "execution_count": 0,
      "outputs": []
    },
    {
      "cell_type": "markdown",
      "metadata": {
        "id": "RkkhOJwfXhkT",
        "colab_type": "text"
      },
      "source": [
        "Plot the loss function (axis X: number of epochs, axis Y: loss function)."
      ]
    },
    {
      "cell_type": "code",
      "metadata": {
        "id": "n2lMdwnOXhkT",
        "colab_type": "code",
        "colab": {
          "base_uri": "https://localhost:8080/",
          "height": 542,
          "referenced_widgets": [
            "007959fc040d4675ac6eb0f556b0b559",
            "8bfeda6ae9ee43ca8c18767db709eba2",
            "12f9d039a11944d8baf98a62c64470da",
            "b3155beea91049fa89616c73c3f58a06",
            "b645e66c03b94b29819eebac9fbc5d5f",
            "bfc93c6a36a2490dbeb65c1993683156",
            "99df7810fe424c46be28f9b705a19041",
            "912e39d0b2c34823b054324da6ddd34e"
          ]
        },
        "outputId": "2ea018c0-4cd4-441f-a467-67a899d39fc2"
      },
      "source": [
        "rnn = RNN(len(tokens), 1024)\n",
        "train_rnn_net(rnn, n_epoch=6000)"
      ],
      "execution_count": 38,
      "outputs": [
        {
          "output_type": "stream",
          "text": [
            "/usr/local/lib/python3.6/dist-packages/ipykernel_launcher.py:7: TqdmDeprecationWarning: This function will be removed in tqdm==5.0.0\n",
            "Please use `tqdm.notebook.tqdm` instead of `tqdm.tqdm_notebook`\n",
            "  import sys\n"
          ],
          "name": "stderr"
        },
        {
          "output_type": "display_data",
          "data": {
            "application/vnd.jupyter.widget-view+json": {
              "model_id": "007959fc040d4675ac6eb0f556b0b559",
              "version_minor": 0,
              "version_major": 2
            },
            "text/plain": [
              "HBox(children=(FloatProgress(value=0.0, max=6000.0), HTML(value='')))"
            ]
          },
          "metadata": {
            "tags": []
          }
        },
        {
          "output_type": "stream",
          "text": [
            "\n"
          ],
          "name": "stdout"
        },
        {
          "output_type": "display_data",
          "data": {
            "image/png": "[encoded data removed]",
            "text/plain": [
              "<Figure size 1080x504 with 1 Axes>"
            ]
          },
          "metadata": {
            "tags": [],
            "needs_background": "light"
          }
        }
      ]
    },
    {
      "cell_type": "code",
      "metadata": {
        "id": "ePzJ81soXhkW",
        "colab_type": "code",
        "colab": {
          "base_uri": "https://localhost:8080/",
          "height": 510
        },
        "outputId": "d8224e25-c2e5-43e3-ab93-7020a387f631"
      },
      "source": [
        "# An example of generated text.\n",
        "print(generate_text(rnn, length=500, temperature=0.001))"
      ],
      "execution_count": 39,
      "outputs": [
        {
          "output_type": "stream",
          "text": [
            "\n",
            "\n",
            "\n",
            "xx\n",
            "\n",
            "домой приехав, пистолеты\n",
            "он осмотрел, потом вложил\n",
            "опять их в ящик и, раздетый,\n",
            "при свечке, шиллера открыл;\n",
            "но мысль одна его объемлет;\n",
            "в нем сердце грустное не дремлет:\n",
            "с неизъяснимою красой\n",
            "он видит ольгу пред собой.\n",
            "владимир книгу закрывает,\n",
            "берет перо; его стихи,\n",
            "полны любовной чепухи,\n",
            "звучат и льются. их читает\n",
            "он вслух, в лирическом жару,\n",
            "как дельвиг пьяный на пиру.\n",
            "\n",
            "\n",
            "\n",
            "xxi\n",
            "\n",
            "стихи на случай сохранились;\n",
            "я их имею; вот они:\n",
            "«куда, куда вы удалились,\n",
            "весны моей златые дни?\n",
            "что день гр\n"
          ],
          "name": "stdout"
        }
      ]
    },
    {
      "cell_type": "code",
      "metadata": {
        "id": "Pbgch4JGkLYh",
        "colab_type": "code",
        "colab": {
          "base_uri": "https://localhost:8080/",
          "height": 1000
        },
        "outputId": "5eb57784-126b-4423-c3ef-be6f5d093b31"
      },
      "source": [
        "print_generated(rnn)"
      ],
      "execution_count": 45,
      "outputs": [
        {
          "output_type": "stream",
          "text": [
            "\n",
            "===== Temperature: 0.1 =====\n",
            "\n",
            "\n",
            "\n",
            "xx\n",
            "\n",
            "домой приехав, пистолеты\n",
            "он осмотрел, потом вложил\n",
            "опять их в ящик и, раздетый,\n",
            "при свечке, шиллера открыл;\n",
            "но мысль одна его объемлет;\n",
            "в нем сердце грустное не дремлет:\n",
            "с неизъяснимою красой\n",
            "он видит ольгу пред собой.\n",
            "владимир книгу закрывает,\n",
            "берет перо; его стихи,\n",
            "полны любовной чепухи,\n",
            "звучат и льются. их читает\n",
            "он вслух, в лирическом жару,\n",
            "как дельвиг пьяный на пиру.\n",
            "\n",
            "\n",
            "\n",
            "xxi\n",
            "\n",
            "стихи на случай сохранились;\n",
            "я их имею; вот они:\n",
            "«куда, куда вы удалились,\n",
            "весны моей златые дни?\n",
            "что день гр\n",
            "\n",
            "===== Temperature: 0.2 =====\n",
            "\n",
            "\n",
            "\n",
            "xx\n",
            "\n",
            "домой приехав, пистолеты\n",
            "он осмотрел, потом вложил\n",
            "опять их в ящик и, раздетый,\n",
            "при свечке, шиллера открыл;\n",
            "но мысль одна его объемлет;\n",
            "в нем сердце грустное не дремлет:\n",
            "с неизъяснимою красой\n",
            "он видит ольгу пред собой.\n",
            "владимир книгу закрывает,\n",
            "берет перо; его стихи,\n",
            "полны любовной чепухи,\n",
            "звучат и льются. их читает\n",
            "он вслух, в лирическом жару,\n",
            "как дельвиг пьяный на пиру.\n",
            "\n",
            "\n",
            "\n",
            "xxi\n",
            "\n",
            "стихи на случай сохранились;\n",
            "я их имею; вот они:\n",
            "«куда, куда вы удалились,\n",
            "весны моей златые дни?\n",
            "что день гр\n",
            "\n",
            "===== Temperature: 0.5 =====\n",
            "довильной мой овгодий\n",
            "пота последнем занспита.\n",
            "вне досе насмыедно вопол.\n",
            "он егдруг мужет у тихоми\n",
            "в темьет покоба омнемнять,\n",
            "жевна, всё тож тый быль от ател.\n",
            "ког а сам и промномы болнецы\n",
            "и венный дою, дно праяха\n",
            "тваре праведон ещу казалицы\n",
            "но утом избуст монай,\n",
            "зану поковлих рогкаенаямьядей прозбан,\n",
            "как пусный руго дней деет;\n",
            "а там о на твее иль вен,\n",
            "с ни света свей какой\n",
            "и булсной скро чеменон.\n",
            "\n",
            "\n",
            "\n",
            "xvi\n",
            "\n",
            "но так бе трузый, небреснные пеетраты\n",
            "ель кростоеще, овысаль н в бесь одразья\n",
            "\n",
            "\n",
            "влудся рума \n",
            "\n",
            "===== Temperature: 1.0 =====\n",
            "\n",
            "\n",
            "\n",
            "xx\n",
            "\n",
            "с утраянь говетит.\n",
            "крусных кобмало от анней ней олно.\n",
            "и скароснеющия ланис собралья\n",
            "катаят: дочей мер забыли;\n",
            "об дая блашна тра но вишол он сысскал вене,\n",
            "не столоспь скорон очет-нав дило,\n",
            "поласелав ическ жи собее,\n",
            "з вере в нак нешае можны\n",
            "\n",
            "оге нопоетьны и ажавой!\n",
            "\n",
            "\n",
            "\n",
            "xxviii\n",
            "\n",
            "содит, и на оновет.\n",
            "\n",
            "\n",
            "\n",
            "xvi\n",
            "\n",
            "но татлю слышатя, мылыв еле?» —\n",
            "«и чей?» – «да т поитевем далини\n",
            "секога тарает бо почье,\n",
            "ни поэтир непосот.\n",
            "бизмнчей прозранноерк и мочум:\n",
            "вохвепни  ине тошина»\n",
            " травна цепа линсиве;\n",
            "но вде\n",
            "\n",
            "===== Temperature: 2.0 =====\n",
            "речил в тамина ванись, мой,ла! —\n",
            "знос оидатся:\n",
            "но водно бка, тать, не мага ой.\n",
            "начет мез ронащий, —\n",
            "счтоал пе двшебрийных мин,\n",
            "ховит насчустной семеечти?\n",
            "пасо рало на статсаквык пилят…\n",
            "(чикаков нь ртве дало до навенdо;\n",
            "адна еж е плысели, на гароса.\n",
            "п\n",
            "ол песетих: «ойча: в пуслый муспары,\n",
            "подрез нновый пщек инне.\n",
            "они aм, вах дибо: криотать зогры,\n",
            "дрерья ирдил, по клын твелго вывзя; паесчтесь нитареди. —\n",
            "\n",
            "\n",
            "\n",
            "xxii\n",
            "\n",
            "ето, упалак,\n",
            "собраховста таньет однаждато,\n",
            "на звот с деу шей?».\n",
            "\n",
            "л\n",
            "шатьета тальною ту\n"
          ],
          "name": "stdout"
        }
      ]
    },
    {
      "cell_type": "markdown",
      "metadata": {
        "id": "sEEC6aUaXhkX",
        "colab_type": "text"
      },
      "source": [
        "### More poetic model\n",
        "\n",
        "Let's use LSTM instead of vanilla RNN and compare the results."
      ]
    },
    {
      "cell_type": "markdown",
      "metadata": {
        "id": "s3Zl907aXhkX",
        "colab_type": "text"
      },
      "source": [
        "Plot the loss function of the number of epochs. Does the final loss become better?"
      ]
    },
    {
      "cell_type": "code",
      "metadata": {
        "id": "JtZwrttIXhkX",
        "colab_type": "code",
        "colab": {}
      },
      "source": [
        "class LSTM(nn.Module):\n",
        "    def __init__(self, in_size, hidden_size, out_size=None):\n",
        "        super(LSTM, self).__init__()\n",
        "        if out_size is None:\n",
        "            out_size = in_size\n",
        "        \n",
        "        self.lstm = nn.LSTM(in_size, hidden_size)\n",
        "        self.o2y = nn.Linear(hidden_size, out_size)\n",
        "        \n",
        "        self.hidden_size = hidden_size\n",
        "    \n",
        "    def forward(self, x, h):\n",
        "        o, h = self.lstm(x, h)\n",
        "        y = self.o2y(o.view(-1, self.hidden_size))\n",
        "        return y, h"
      ],
      "execution_count": 0,
      "outputs": []
    },
    {
      "cell_type": "markdown",
      "metadata": {
        "id": "4orfCnA8XhkZ",
        "colab_type": "text"
      },
      "source": [
        "Generate text using the trained net with different `temperature` parameter: `[0.1, 0.2, 0.5, 1.0, 2.0]`.\n",
        "\n",
        "Evaluate the results visually, try to interpret them."
      ]
    },
    {
      "cell_type": "code",
      "metadata": {
        "id": "s6Sr7cDqXhkZ",
        "colab_type": "code",
        "colab": {
          "base_uri": "https://localhost:8080/",
          "height": 542,
          "referenced_widgets": [
            "63bb2eff13ac48398dd39783804ce25a",
            "ab902fc03cb642aaa56253b43333efa6",
            "ddddbb4dec0e4465bd6769e779dc711e",
            "ba4f4fb50c01405199bd8af9669a4f8f",
            "399a3a9fa4da4e71b78eacd84409a5fc",
            "dda48d2c5a5c4abba6c8f25878bbc574",
            "56532c3b2ad34207b5e8fea32193d240",
            "ab09e4bb6bf54abab57e7a8e97a5cdd3"
          ]
        },
        "outputId": "80a9aa97-a5ca-4892-bcf0-a0f76ef73302"
      },
      "source": [
        "lstm = LSTM(len(tokens), 1024)\n",
        "train_rnn_net(lstm, n_epoch=6000, second_hidden=True)"
      ],
      "execution_count": 41,
      "outputs": [
        {
          "output_type": "stream",
          "text": [
            "/usr/local/lib/python3.6/dist-packages/ipykernel_launcher.py:7: TqdmDeprecationWarning: This function will be removed in tqdm==5.0.0\n",
            "Please use `tqdm.notebook.tqdm` instead of `tqdm.tqdm_notebook`\n",
            "  import sys\n"
          ],
          "name": "stderr"
        },
        {
          "output_type": "display_data",
          "data": {
            "application/vnd.jupyter.widget-view+json": {
              "model_id": "63bb2eff13ac48398dd39783804ce25a",
              "version_minor": 0,
              "version_major": 2
            },
            "text/plain": [
              "HBox(children=(FloatProgress(value=0.0, max=6000.0), HTML(value='')))"
            ]
          },
          "metadata": {
            "tags": []
          }
        },
        {
          "output_type": "stream",
          "text": [
            "\n"
          ],
          "name": "stdout"
        },
        {
          "output_type": "display_data",
          "data": {
            "image/png": "[encoded data removed]",
            "text/plain": [
              "<Figure size 1080x504 with 1 Axes>"
            ]
          },
          "metadata": {
            "tags": [],
            "needs_background": "light"
          }
        }
      ]
    },
    {
      "cell_type": "code",
      "metadata": {
        "id": "baNSbjklkIP9",
        "colab_type": "code",
        "colab": {
          "base_uri": "https://localhost:8080/",
          "height": 1000
        },
        "outputId": "a9b70762-98e1-4edd-cd1c-e3dead5b56c0"
      },
      "source": [
        "print_generated(lstm, second_hidden=True)"
      ],
      "execution_count": 44,
      "outputs": [
        {
          "output_type": "stream",
          "text": [
            "\n",
            "===== Temperature: 0.1 =====\n",
            "\n",
            "\n",
            "\n",
            "xxxii\n",
            "\n",
            "мое сморинья, в том су согом\n",
            "вамят ножет летской невнил:\n",
            "\n",
            "о нег ренувиж ная небой\n",
            "был жертвой ворный с похорвнимиче\n",
            "пыседом, мно нега яный»\n",
            "та вравится раз мледы; друг ергений,\n",
            "и в радамся горто и мутела,\n",
            "по толпом онегин с оводой\n",
            "одно б дасномась и тепец\n",
            "\n",
            "пескум и млогом раастилась\n",
            "давалья вмочно, полов давнлон,\n",
            "кокмин мудови холлаядо\n",
            "не моляной свлестью пасьяна\n",
            "гоступинием я нести:\n",
            "мне наш онегин бод шелкой\n",
            "мажьен елегин п петьша мой\n",
            "усод на света бел госое\n",
            "итсе ж о вздохох толашой,\n",
            "\n",
            "===== Temperature: 0.2 =====\n",
            "\n",
            "\n",
            "\n",
            "xxxii\n",
            "\n",
            "но ни, есе всемда жало\n",
            "пачтинный дог встантых аня снеща,\n",
            "у дане другил и хранела\n",
            "и замлиг толся тви говор\n",
            "ноурож не выт пилиней,\n",
            "жевальной мустья другой,\n",
            "вошнай ибеглам и педать,\n",
            "не молянит пельта с маюбой,\n",
            "не минят ват, там душькой волнель,\n",
            "и помли та сего пере\n",
            "ланя, горторьюных пистя,\n",
            "в глуше звоет и метуд.\n",
            "знак узоалать н улебе други,\n",
            "пол довой равеет и овлад\n",
            "олал он просте ведитай\n",
            "их а титем у рачай дане\n",
            "катичат каб ужет да серь,\n",
            "с мака одетой всох авитель\n",
            "их ее доверчивой простин\n",
            "\n",
            "===== Temperature: 0.5 =====\n",
            "\n",
            "\n",
            "xxxv\n",
            "\n",
            "гремят отдвинутые стулья;\n",
            "толпа в гостиную валит:\n",
            "так пчел из лакомого улья\n",
            "на ниву шумный рой летит.\n",
            "довольный праздничным обедом\n",
            "сосед сопит перед соседом;\n",
            "подсели дамы к камельку;\n",
            "девицы шепчут в уголку;\n",
            "столы зеленые раскрыты:\n",
            "зовут задорных игроков\n",
            "бостон и ломбер стариков,\n",
            "и вист, доныне знаменитый,\n",
            "однообразная семья,\n",
            "все жадной скуки сыновья.\n",
            "\n",
            "\n",
            "\n",
            "xxxvi\n",
            "\n",
            "уж восемь робертов сыграли\n",
            "герои виста; восемь раз\n",
            "они места переменяли;\n",
            "и чай несут. люблю я час\n",
            "определять обедом, чаем\n",
            "и ужин\n",
            "\n",
            "===== Temperature: 1.0 =====\n",
            "поэтий нет брестит во вось муло коль\n",
            "мечтом нестромается каим,\n",
            "не измитяль не чежде.\n",
            "\n",
            "\n",
            "\n",
            "l xii. xxxvi\n",
            "\n",
            "ужновя ствутки всериисной\n",
            "дни слевы своей сладе нестучели,\n",
            "как пахмату ле к на слиха,\n",
            "козда былая садала и!\n",
            "та шиакт рвстен им ет залснам,\n",
            "изденя в плене гоутру подеталь лертая)\n",
            "и былит: «не, приммидах дум овоем.\n",
            "письмо татьяны пееньюмямы\n",
            "какреси осповелишь —\n",
            "«ту взвеш тыл не звует почел,\n",
            "на нейе стренся яный день\n",
            "предучте манне  сукромой\n",
            "безмолвной пирьти вагость,\n",
            "с ольбимым сельнам о вежи\n",
            "зад\n",
            "\n",
            "===== Temperature: 2.0 =====\n",
            "насотслаз мо ньшо явгонай;\n",
            "есв образаен не зучугимый,азь менью слебу ой\n",
            "\n",
            "крувычный свот сасьни саны,\n",
            "и, фрамчаствя петум ойда;\n",
            "с об вамем ейнее и мелча;\n",
            "и был, что мчевейшавана\n",
            "а мыли миет я мой дариней\n",
            "соссла звоюмовоен олод—\n",
            "ты чьог сновь полю веснутья;\n",
            "по тампам в ясьмох тотня\n",
            "и могка испылненнее глезай.\n",
            "девсовейня моевастям ожа:\n",
            "и там бультиз молеу вожк!\n",
            "у, сполвер, и снарехнопа пехом,\n",
            "инчарди с вистамилаят млатья,\n",
            "понимо перта и  терь\n",
            "хранит нарежды не видялись;\n",
            "погромы шелчком опесвальст\n",
            "\n"
          ],
          "name": "stdout"
        }
      ]
    },
    {
      "cell_type": "markdown",
      "metadata": {
        "id": "M_2S3RgH6i7X",
        "colab_type": "text"
      },
      "source": [
        "LSTM справилась с задачей не сильно лучше обычной RNN(что странно), лосс получился не сильно меньше, на обучение ушло в 4 раза больше времени. Текст получился более правдоподобным и связным, длина строк стала из того же распределения, как и в исходном тексте (в случае обычной RNN распределение получилось не совсем таким - были очень длинные строки).\n",
        "При низкой температуре генерируется текст, максимально похожий на исходный (при очень низкой - идентичный исходному, если сеть его заучила). При средней температуре текст становится более разнообразным, но по-прежнему похож на исходный. При высокой температуре текст становится более хаотичным: длина строк варьируется сильнее, появляются обрывки слов, ломается синтаксис."
      ]
    },
    {
      "cell_type": "code",
      "metadata": {
        "id": "RPMMK5UZ6-GF",
        "colab_type": "code",
        "colab": {}
      },
      "source": [
        "def analize_lengths(text):\n",
        "    lengths = np.array([len(s) for s in text.split('\\n')])\n",
        "    lengths_sample = lengths[:400]\n",
        "\n",
        "    plt.figure(figsize=(12, 3))\n",
        "    plt.hist2d(range(len(lengths_sample)), lengths_sample, bins=(400, 30))\n",
        "    plt.xlabel('Position in data')\n",
        "    plt.ylabel('Line length')\n",
        "    plt.show()\n",
        "\n",
        "    lengths.sort()\n",
        "    uls, counts = np.unique(lengths, return_counts=True)\n",
        "\n",
        "    plt.figure(figsize=(12, 4))\n",
        "    plt.scatter(uls, counts)\n",
        "    plt.xlabel('Line length')\n",
        "    plt.ylabel('Frequency')\n",
        "    plt.show()"
      ],
      "execution_count": 0,
      "outputs": []
    },
    {
      "cell_type": "code",
      "metadata": {
        "id": "4rWHD6Ks7CSq",
        "colab_type": "code",
        "colab": {
          "base_uri": "https://localhost:8080/",
          "height": 491
        },
        "outputId": "8b01150a-ad5b-4db2-e30e-54fac6b98c3b"
      },
      "source": [
        "analize_lengths(text)"
      ],
      "execution_count": 48,
      "outputs": [
        {
          "output_type": "display_data",
          "data": {
            "image/png": "[encoded data removed]",
            "text/plain": [
              "<Figure size 864x216 with 1 Axes>"
            ]
          },
          "metadata": {
            "tags": [],
            "needs_background": "light"
          }
        },
        {
          "output_type": "display_data",
          "data": {
            "image/png": "[encoded data removed]",
            "text/plain": [
              "<Figure size 864x288 with 1 Axes>"
            ]
          },
          "metadata": {
            "tags": [],
            "needs_background": "light"
          }
        }
      ]
    },
    {
      "cell_type": "code",
      "metadata": {
        "id": "2qVDeApp7IOc",
        "colab_type": "code",
        "colab": {
          "base_uri": "https://localhost:8080/",
          "height": 487
        },
        "outputId": "b84b1654-8f27-492e-80a7-2a6d7ee6aefe"
      },
      "source": [
        "analize_lengths(generate_text(lstm, length = 2000 * 50, temperature=0.25, second_hidden=True))"
      ],
      "execution_count": 60,
      "outputs": [
        {
          "output_type": "display_data",
          "data": {
            "image/png": "[encoded data removed]",
            "text/plain": [
              "<Figure size 864x216 with 1 Axes>"
            ]
          },
          "metadata": {
            "tags": [],
            "needs_background": "light"
          }
        },
        {
          "output_type": "display_data",
          "data": {
            "image/png": "[encoded data removed]",
            "text/plain": [
              "<Figure size 864x288 with 1 Axes>"
            ]
          },
          "metadata": {
            "tags": [],
            "needs_background": "light"
          }
        }
      ]
    },
    {
      "cell_type": "markdown",
      "metadata": {
        "id": "dXcn55rDXhka",
        "colab_type": "text"
      },
      "source": [
        "### Saving and loading models"
      ]
    },
    {
      "cell_type": "markdown",
      "metadata": {
        "id": "yDzE1OZXXhka",
        "colab_type": "text"
      },
      "source": [
        "Save the model to the disk, then load it and generate text. Examples are available [here](https://pytorch.org/tutorials/beginner/saving_loading_models.html])."
      ]
    },
    {
      "cell_type": "code",
      "metadata": {
        "id": "bQmNqGK-72wE",
        "colab_type": "code",
        "colab": {}
      },
      "source": [
        "import pickle\n",
        "file_name = 'lstm_trained.dat'"
      ],
      "execution_count": 0,
      "outputs": []
    },
    {
      "cell_type": "code",
      "metadata": {
        "id": "P7iZ5sy875h8",
        "colab_type": "code",
        "colab": {
          "base_uri": "https://localhost:8080/",
          "height": 51
        },
        "outputId": "0a47337b-61d5-448c-c4f4-b70f698e36ac"
      },
      "source": [
        "pickle.dump(lstm.state_dict(), open(file_name, 'wb'))"
      ],
      "execution_count": 61,
      "outputs": [
        {
          "output_type": "stream",
          "text": [
            "/usr/local/lib/python3.6/dist-packages/torch/storage.py:34: FutureWarning: pickle support for Storage will be removed in 1.5. Use `torch.save` instead\n",
            "  warnings.warn(\"pickle support for Storage will be removed in 1.5. Use `torch.save` instead\", FutureWarning)\n"
          ],
          "name": "stderr"
        }
      ]
    },
    {
      "cell_type": "code",
      "metadata": {
        "id": "T7w4y9Ep8ld1",
        "colab_type": "code",
        "colab": {
          "base_uri": "https://localhost:8080/",
          "height": 34
        },
        "outputId": "8575589b-f819-4b8b-918c-9ed854062a6a"
      },
      "source": [
        "lstm_loaded = LSTM(len(tokens), 1024)\n",
        "lstm_loaded.load_state_dict(pickle.load(open(file_name, 'rb')))"
      ],
      "execution_count": 62,
      "outputs": [
        {
          "output_type": "execute_result",
          "data": {
            "text/plain": [
              "<All keys matched successfully>"
            ]
          },
          "metadata": {
            "tags": []
          },
          "execution_count": 62
        }
      ]
    },
    {
      "cell_type": "code",
      "metadata": {
        "id": "99l3C81-8nby",
        "colab_type": "code",
        "colab": {
          "base_uri": "https://localhost:8080/",
          "height": 595
        },
        "outputId": "2772f679-136c-4256-b261-06ad523b4afe"
      },
      "source": [
        "print(generate_text(lstm_loaded, length=500, temperature=0.2, second_hidden=True))"
      ],
      "execution_count": 64,
      "outputs": [
        {
          "output_type": "stream",
          "text": [
            "\n",
            "\n",
            "\n",
            "xxxii\n",
            "\n",
            "но ни, есе всемда жале\n",
            "парцет меля брадениа свок.\n",
            "\n",
            "\n",
            "\n",
            "xiv\n",
            "\n",
            "увылать в дома о немирать,\n",
            "запосливью похлужинся ограммии\n",
            "гореетревной сам и похновый,\n",
            "ди островол и замеру,\n",
            "на молча онегим поскакал.\n",
            "перед померкшими домами\n",
            "вдоль сонной улицы рядами\n",
            "двойные фонари карет\n",
            "веселый изливают свет\n",
            "и радуги на снег наводят;\n",
            "усеян плошками кругом,\n",
            "блестит великолепный дом;\n",
            "по цельным окнам тени ходят,\n",
            "мелькают профили голов\n",
            "и дам и модных чудаков.\n",
            "\n",
            "\n",
            "\n",
            "xxviii\n",
            "\n",
            "вот наш герой подъехал к сеням;\n",
            "швейцара \n"
          ],
          "name": "stdout"
        }
      ]
    },
    {
      "cell_type": "markdown",
      "metadata": {
        "id": "xBMBKDOuXhkb",
        "colab_type": "text"
      },
      "source": [
        "### References\n",
        "1. <a href='http://karpathy.github.io/2015/05/21/rnn-effectiveness/'> Andrew Karpathy blog post about RNN. </a> \n",
        "There are several examples of genration: Shakespeare texts, Latex formulas, Linux Sourse Code and children names.\n",
        "2. <a href='https://github.com/karpathy/char-rnn'> Repo with char-rnn code </a>\n",
        "3. Cool repo with PyTorch examples: [link](https://github.com/spro/practical-pytorch`)"
      ]
    }
  ]
}